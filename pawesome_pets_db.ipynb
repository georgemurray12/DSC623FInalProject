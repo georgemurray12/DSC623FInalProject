{
 "cells": [
  {
   "cell_type": "markdown",
   "metadata": {},
   "source": [
    "Part a"
   ]
  },
  {
   "cell_type": "code",
   "execution_count": 4,
   "metadata": {},
   "outputs": [],
   "source": [
    "import sqlite3\n",
    "import pandas as pd\n",
    "\n",
    "# Connect to the database (creates it if it doesn't exist)\n",
    "db_connect = sqlite3.connect('pawsome_pets.db')\n",
    "\n",
    "# Instantiate cursor object for executing queries\n",
    "cursor = db_connect.cursor()\n"
   ]
  },
  {
   "cell_type": "code",
   "execution_count": 5,
   "metadata": {},
   "outputs": [
    {
     "data": {
      "text/plain": [
       "<sqlite3.Cursor at 0x11217bb20>"
      ]
     },
     "execution_count": 5,
     "metadata": {},
     "output_type": "execute_result"
    }
   ],
   "source": [
    "# Create the Clinic table\n",
    "query = \"\"\"\n",
    "CREATE TABLE Clinic (\n",
    "    clinicNo INTEGER PRIMARY KEY,\n",
    "    name TEXT NOT NULL UNIQUE,\n",
    "    address TEXT NOT NULL,\n",
    "    phoneNumber CHAR(10) NOT NULL UNIQUE,\n",
    "    managerStaffNo INTEGER,\n",
    "    FOREIGN KEY (managerStaffNo) REFERENCES Staff(staffNo)\n",
    ");\n",
    "\"\"\"\n",
    "cursor.execute(query)\n"
   ]
  },
  {
   "cell_type": "code",
   "execution_count": 6,
   "metadata": {},
   "outputs": [
    {
     "data": {
      "text/plain": [
       "<sqlite3.Cursor at 0x11217bb20>"
      ]
     },
     "execution_count": 6,
     "metadata": {},
     "output_type": "execute_result"
    }
   ],
   "source": [
    "# Create the Staff table\n",
    "query = \"\"\"\n",
    "CREATE TABLE Staff (\n",
    "    staffNo INTEGER PRIMARY KEY,\n",
    "    name TEXT NOT NULL,\n",
    "    address TEXT NOT NULL,\n",
    "    phoneNumber CHAR(10) NOT NULL UNIQUE,\n",
    "    DOB DATE NOT NULL CHECK (DOB <= CURRENT_DATE),\n",
    "    position TEXT NOT NULL CHECK (position IN ('vet', 'receptionist', 'manager')),\n",
    "    salary FLOAT NOT NULL CHECK (salary > 0),\n",
    "    clinicNo INTEGER,\n",
    "    FOREIGN KEY (clinicNo) REFERENCES Clinic(clinicNo)\n",
    ");\n",
    "\"\"\"\n",
    "cursor.execute(query)\n"
   ]
  },
  {
   "cell_type": "code",
   "execution_count": 7,
   "metadata": {},
   "outputs": [
    {
     "data": {
      "text/plain": [
       "<sqlite3.Cursor at 0x11217bb20>"
      ]
     },
     "execution_count": 7,
     "metadata": {},
     "output_type": "execute_result"
    }
   ],
   "source": [
    "# Create the Owner table\n",
    "query = \"\"\"\n",
    "CREATE TABLE Owner (\n",
    "    ownerNo INTEGER PRIMARY KEY,\n",
    "    name TEXT NOT NULL,\n",
    "    address TEXT NOT NULL,\n",
    "    phoneNumber CHAR(10) NOT NULL UNIQUE\n",
    ");\n",
    "\"\"\"\n",
    "cursor.execute(query)\n"
   ]
  },
  {
   "cell_type": "code",
   "execution_count": 8,
   "metadata": {},
   "outputs": [
    {
     "data": {
      "text/plain": [
       "<sqlite3.Cursor at 0x11217bb20>"
      ]
     },
     "execution_count": 8,
     "metadata": {},
     "output_type": "execute_result"
    }
   ],
   "source": [
    "# Create the Pet table\n",
    "query = \"\"\"\n",
    "CREATE TABLE Pet (\n",
    "    petNo INTEGER PRIMARY KEY,\n",
    "    name TEXT NOT NULL,\n",
    "    DOB DATE NOT NULL CHECK (DOB <= CURRENT_DATE),\n",
    "    species TEXT NOT NULL,\n",
    "    breed TEXT,\n",
    "    color TEXT,\n",
    "    ownerNo INTEGER NOT NULL,\n",
    "    clinicNo INTEGER NOT NULL,\n",
    "    FOREIGN KEY (ownerNo) REFERENCES Owner(ownerNo),\n",
    "    FOREIGN KEY (clinicNo) REFERENCES Clinic(clinicNo)\n",
    ");\n",
    "\"\"\"\n",
    "cursor.execute(query)\n"
   ]
  },
  {
   "cell_type": "code",
   "execution_count": 9,
   "metadata": {},
   "outputs": [
    {
     "data": {
      "text/plain": [
       "<sqlite3.Cursor at 0x11217bb20>"
      ]
     },
     "execution_count": 9,
     "metadata": {},
     "output_type": "execute_result"
    }
   ],
   "source": [
    "# Create the Examination table\n",
    "query = \"\"\"\n",
    "CREATE TABLE Examination (\n",
    "    examNo INTEGER PRIMARY KEY,\n",
    "    chiefComplaint TEXT NOT NULL,\n",
    "    description TEXT NOT NULL,\n",
    "    dateSeen DATE NOT NULL,\n",
    "    actionsTaken TEXT,\n",
    "    petNo INTEGER NOT NULL,\n",
    "    staffNo INTEGER NOT NULL,\n",
    "    FOREIGN KEY (petNo) REFERENCES Pet(petNo),\n",
    "    FOREIGN KEY (staffNo) REFERENCES Staff(staffNo)\n",
    ");\n",
    "\"\"\"\n",
    "cursor.execute(query)\n"
   ]
  },
  {
   "cell_type": "code",
   "execution_count": 10,
   "metadata": {},
   "outputs": [],
   "source": [
    "db_connect.commit()"
   ]
  },
  {
   "cell_type": "markdown",
   "metadata": {},
   "source": [
    "Part b"
   ]
  },
  {
   "cell_type": "code",
   "execution_count": 11,
   "metadata": {},
   "outputs": [
    {
     "data": {
      "text/plain": [
       "<sqlite3.Cursor at 0x11217bb20>"
      ]
     },
     "execution_count": 11,
     "metadata": {},
     "output_type": "execute_result"
    }
   ],
   "source": [
    "# Insert data into Clinic\n",
    "query = \"\"\"\n",
    "INSERT INTO Clinic (clinicNo, name, address, phoneNumber, managerStaffNo)\n",
    "VALUES\n",
    "(1, 'Downtown Clinic', '123 Main St', '5551234567', 101),\n",
    "(2, 'Miami Clinic', '456 Elm St', '5552345678', 102),\n",
    "(3, 'North Clinic', '789 Pine St', '5553456789', NULL),\n",
    "(4, 'Sout Clinic', '321 Oak St', '5554567890', 103),\n",
    "(5, 'East Clinic', '654 Cedar St', '5555678901', NULL);\n",
    "\"\"\"\n",
    "cursor.execute(query)\n"
   ]
  },
  {
   "cell_type": "code",
   "execution_count": 12,
   "metadata": {},
   "outputs": [
    {
     "data": {
      "text/plain": [
       "<sqlite3.Cursor at 0x11217bb20>"
      ]
     },
     "execution_count": 12,
     "metadata": {},
     "output_type": "execute_result"
    }
   ],
   "source": [
    "# Insert data into Staff\n",
    "query = \"\"\"\n",
    "INSERT INTO Staff (staffNo, name, address, phoneNumber, DOB, position, salary, clinicNo)\n",
    "VALUES\n",
    "(101, 'Alice Bradshaw', '101 First St', '5551111111', '1980-05-10', 'manager', 70000, 1),\n",
    "(102, 'Bob Duncan', '202 Second St', '5552222222', '1990-06-15', 'vet', 90000, 2),\n",
    "(103, 'Charlie Brown', '303 Third St', '5553333333', '1965-07-20', 'receptionist', 45000, 4),\n",
    "(104, 'Diana Dakota', '404 Fourth St', '5554444444', '1995-03-15', 'vet', 85000, 3),\n",
    "(105, 'Evan Stevens', '505 Fifth St', '5555555555', '2000-09-25', 'manager', 72000, 5);\n",
    "\"\"\"\n",
    "cursor.execute(query)\n"
   ]
  },
  {
   "cell_type": "code",
   "execution_count": 13,
   "metadata": {},
   "outputs": [
    {
     "data": {
      "text/plain": [
       "<sqlite3.Cursor at 0x11217bb20>"
      ]
     },
     "execution_count": 13,
     "metadata": {},
     "output_type": "execute_result"
    }
   ],
   "source": [
    "# Insert data into Owner\n",
    "query = \"\"\"\n",
    "INSERT INTO Owner (ownerNo, name, address, phoneNumber)\n",
    "VALUES\n",
    "(201, 'Andy Apple', '789 Maple St', '5556666666'),\n",
    "(202, 'Bob Banana', '101 Oak St', '5557777777'),\n",
    "(203, 'Caroline Carrot', '202 Elm St', '5558888888'),\n",
    "(204, 'David Duck', '303 Pine St', '5559999999'),\n",
    "(205, 'Peter Parker', '404 Cedar St', '5550000000');\n",
    "\"\"\"\n",
    "cursor.execute(query)\n"
   ]
  },
  {
   "cell_type": "code",
   "execution_count": 14,
   "metadata": {},
   "outputs": [
    {
     "data": {
      "text/plain": [
       "<sqlite3.Cursor at 0x11217bb20>"
      ]
     },
     "execution_count": 14,
     "metadata": {},
     "output_type": "execute_result"
    }
   ],
   "source": [
    "# Insert data into Pet\n",
    "query = \"\"\"\n",
    "INSERT INTO Pet (petNo, name, DOB, species, breed, color, ownerNo, clinicNo)\n",
    "VALUES\n",
    "(301, 'Rari', '2018-03-20', 'Dog', 'Golden Retriever', 'Gold', 201, 1),\n",
    "(302, 'Alfie', '2020-05-15', 'Cat', 'Siamese', 'Cream', 202, 2),\n",
    "(303, 'Cookie', '2021-07-01', 'Rabbit', 'Dwarf', 'White', 203, 3),\n",
    "(304, 'Monkey', '2019-11-23', 'Dog', 'Labrador', 'Black', 204, 4),\n",
    "(305, 'Bobby', '2022-06-30', 'Hamster', 'Syrian', 'Brown', 205, 5);\n",
    "\"\"\"\n",
    "cursor.execute(query)\n"
   ]
  },
  {
   "cell_type": "code",
   "execution_count": 15,
   "metadata": {},
   "outputs": [
    {
     "data": {
      "text/plain": [
       "<sqlite3.Cursor at 0x11217bb20>"
      ]
     },
     "execution_count": 15,
     "metadata": {},
     "output_type": "execute_result"
    }
   ],
   "source": [
    "# Insert data into Examination\n",
    "query = \"\"\"\n",
    "INSERT INTO Examination (examNo, chiefComplaint, description, dateSeen, actionsTaken, petNo, staffNo)\n",
    "VALUES\n",
    "(401, 'Fever', 'Administered medication', '2024-01-15', 'Prescribed antibiotics', 301, 102),\n",
    "(402, 'Allergy', 'Gave antihistamines', '2024-02-10', 'Prescribed antihistamines', 302, 104),\n",
    "(403, 'Check-up', 'Routine health check-up', '2024-03-05', 'No action required', 303, 101),\n",
    "(404, 'Injury', 'Cleaned wound and bandaged', '2024-03-20', 'Prescribed painkillers', 304, 103),\n",
    "(405, 'Vaccination', 'Administered rabies vaccine', '2024-04-10', 'Updated vaccination records', 305, 105);\n",
    "\"\"\"\n",
    "cursor.execute(query)\n"
   ]
  },
  {
   "cell_type": "code",
   "execution_count": 16,
   "metadata": {},
   "outputs": [],
   "source": [
    "db_connect.commit()\n"
   ]
  },
  {
   "cell_type": "code",
   "execution_count": 17,
   "metadata": {},
   "outputs": [
    {
     "name": "stdout",
     "output_type": "stream",
     "text": [
      "Clinic Table Contents:\n",
      "(1, 'Downtown Clinic', '123 Main St', '5551234567', 101)\n",
      "(2, 'Miami Clinic', '456 Elm St', '5552345678', 102)\n",
      "(3, 'North Clinic', '789 Pine St', '5553456789', None)\n",
      "(4, 'Sout Clinic', '321 Oak St', '5554567890', 103)\n",
      "(5, 'East Clinic', '654 Cedar St', '5555678901', None)\n"
     ]
    }
   ],
   "source": [
    "query = \"SELECT * FROM Clinic;\"\n",
    "cursor.execute(query)\n",
    "print(\"Clinic Table Contents:\")\n",
    "for row in cursor.fetchall():\n",
    "    print(row)\n"
   ]
  },
  {
   "cell_type": "code",
   "execution_count": 18,
   "metadata": {},
   "outputs": [
    {
     "name": "stdout",
     "output_type": "stream",
     "text": [
      "Staff Table Contents:\n",
      "(101, 'Alice Bradshaw', '101 First St', '5551111111', '1980-05-10', 'manager', 70000.0, 1)\n",
      "(102, 'Bob Duncan', '202 Second St', '5552222222', '1990-06-15', 'vet', 90000.0, 2)\n",
      "(103, 'Charlie Brown', '303 Third St', '5553333333', '1965-07-20', 'receptionist', 45000.0, 4)\n",
      "(104, 'Diana Dakota', '404 Fourth St', '5554444444', '1995-03-15', 'vet', 85000.0, 3)\n",
      "(105, 'Evan Stevens', '505 Fifth St', '5555555555', '2000-09-25', 'manager', 72000.0, 5)\n"
     ]
    }
   ],
   "source": [
    "query = \"SELECT * FROM Staff;\"\n",
    "cursor.execute(query)\n",
    "print(\"Staff Table Contents:\")\n",
    "for row in cursor.fetchall():\n",
    "    print(row)\n"
   ]
  },
  {
   "cell_type": "code",
   "execution_count": 19,
   "metadata": {},
   "outputs": [
    {
     "name": "stdout",
     "output_type": "stream",
     "text": [
      "Owner Table Contents:\n",
      "(201, 'Andy Apple', '789 Maple St', '5556666666')\n",
      "(202, 'Bob Banana', '101 Oak St', '5557777777')\n",
      "(203, 'Caroline Carrot', '202 Elm St', '5558888888')\n",
      "(204, 'David Duck', '303 Pine St', '5559999999')\n",
      "(205, 'Peter Parker', '404 Cedar St', '5550000000')\n"
     ]
    }
   ],
   "source": [
    "query = \"SELECT * FROM Owner;\"\n",
    "cursor.execute(query)\n",
    "print(\"Owner Table Contents:\")\n",
    "for row in cursor.fetchall():\n",
    "    print(row)\n"
   ]
  },
  {
   "cell_type": "code",
   "execution_count": 20,
   "metadata": {},
   "outputs": [
    {
     "name": "stdout",
     "output_type": "stream",
     "text": [
      "Pet Table Contents:\n",
      "(301, 'Rari', '2018-03-20', 'Dog', 'Golden Retriever', 'Gold', 201, 1)\n",
      "(302, 'Alfie', '2020-05-15', 'Cat', 'Siamese', 'Cream', 202, 2)\n",
      "(303, 'Cookie', '2021-07-01', 'Rabbit', 'Dwarf', 'White', 203, 3)\n",
      "(304, 'Monkey', '2019-11-23', 'Dog', 'Labrador', 'Black', 204, 4)\n",
      "(305, 'Bobby', '2022-06-30', 'Hamster', 'Syrian', 'Brown', 205, 5)\n"
     ]
    }
   ],
   "source": [
    "query = \"SELECT * FROM Pet;\"\n",
    "cursor.execute(query)\n",
    "print(\"Pet Table Contents:\")\n",
    "for row in cursor.fetchall():\n",
    "    print(row)\n"
   ]
  },
  {
   "cell_type": "code",
   "execution_count": 21,
   "metadata": {},
   "outputs": [
    {
     "name": "stdout",
     "output_type": "stream",
     "text": [
      "Examination Table Contents:\n",
      "(401, 'Fever', 'Administered medication', '2024-01-15', 'Prescribed antibiotics', 301, 102)\n",
      "(402, 'Allergy', 'Gave antihistamines', '2024-02-10', 'Prescribed antihistamines', 302, 104)\n",
      "(403, 'Check-up', 'Routine health check-up', '2024-03-05', 'No action required', 303, 101)\n",
      "(404, 'Injury', 'Cleaned wound and bandaged', '2024-03-20', 'Prescribed painkillers', 304, 103)\n",
      "(405, 'Vaccination', 'Administered rabies vaccine', '2024-04-10', 'Updated vaccination records', 305, 105)\n"
     ]
    }
   ],
   "source": [
    "query = \"SELECT * FROM Examination;\"\n",
    "cursor.execute(query)\n",
    "print(\"Examination Table Contents:\")\n",
    "for row in cursor.fetchall():\n",
    "    print(row)\n"
   ]
  },
  {
   "cell_type": "markdown",
   "metadata": {},
   "source": [
    "Part c"
   ]
  },
  {
   "cell_type": "code",
   "execution_count": 22,
   "metadata": {},
   "outputs": [],
   "source": [
    "# Insert a new pet for an existing owner\n",
    "query = \"\"\"\n",
    "INSERT INTO Pet (petNo, name, DOB, species, breed, color, ownerNo, clinicNo)\n",
    "VALUES (306, 'Luna', '2023-01-15', 'Dog', 'Husky', 'Gray', 202, 2);\n",
    "\"\"\"\n",
    "cursor.execute(query)\n",
    "db_connect.commit()\n"
   ]
  },
  {
   "cell_type": "code",
   "execution_count": 23,
   "metadata": {},
   "outputs": [],
   "source": [
    "# Assign a staff member to manage a clinic\n",
    "query = \"\"\"\n",
    "UPDATE Clinic\n",
    "SET managerStaffNo = 104\n",
    "WHERE clinicNo = 3;\n",
    "\"\"\"\n",
    "cursor.execute(query)\n",
    "db_connect.commit()\n"
   ]
  },
  {
   "cell_type": "code",
   "execution_count": 24,
   "metadata": {},
   "outputs": [],
   "source": [
    "# Update pet details\n",
    "query = \"\"\"\n",
    "UPDATE Pet\n",
    "SET name = 'Shadow', DOB = '2019-06-01', species = 'Dog', breed = 'Labrador', color = 'Black'\n",
    "WHERE petNo = 304;\n",
    "\"\"\"\n",
    "cursor.execute(query)\n",
    "db_connect.commit()\n"
   ]
  },
  {
   "cell_type": "code",
   "execution_count": 25,
   "metadata": {},
   "outputs": [
    {
     "name": "stdout",
     "output_type": "stream",
     "text": [
      "Examinations for PetNo 301:\n",
      "(401, 'Fever', 'Administered medication', '2024-01-15', 'Prescribed antibiotics', 301, 102)\n"
     ]
    }
   ],
   "source": [
    "# Retrieve all examinations for a specific pet\n",
    "query = \"\"\"\n",
    "SELECT * FROM Examination\n",
    "WHERE petNo = 301;\n",
    "\"\"\"\n",
    "cursor.execute(query)\n",
    "print(\"Examinations for PetNo 301:\")\n",
    "for row in cursor.fetchall():\n",
    "    print(row)\n"
   ]
  },
  {
   "cell_type": "code",
   "execution_count": 26,
   "metadata": {},
   "outputs": [
    {
     "name": "stdout",
     "output_type": "stream",
     "text": [
      "Pets owned by OwnerNo 201:\n",
      "(301, 'Rari', '2018-03-20', 'Dog', 'Golden Retriever', 'Gold', 201, 1)\n"
     ]
    }
   ],
   "source": [
    "# List all pets owned by a specific owner\n",
    "query = \"\"\"\n",
    "SELECT * FROM Pet\n",
    "WHERE ownerNo = 201;\n",
    "\"\"\"\n",
    "cursor.execute(query)\n",
    "print(\"Pets owned by OwnerNo 201:\")\n",
    "for row in cursor.fetchall():\n",
    "    print(row)\n"
   ]
  },
  {
   "cell_type": "code",
   "execution_count": 27,
   "metadata": {},
   "outputs": [
    {
     "name": "stdout",
     "output_type": "stream",
     "text": [
      "Updated Pet Table Contents:\n",
      "(301, 'Rari', '2018-03-20', 'Dog', 'Golden Retriever', 'Gold', 201, 1)\n",
      "(302, 'Alfie', '2020-05-15', 'Cat', 'Siamese', 'Cream', 202, 2)\n",
      "(303, 'Cookie', '2021-07-01', 'Rabbit', 'Dwarf', 'White', 203, 3)\n",
      "(304, 'Shadow', '2019-06-01', 'Dog', 'Labrador', 'Black', 204, 4)\n",
      "(305, 'Bobby', '2022-06-30', 'Hamster', 'Syrian', 'Brown', 205, 5)\n",
      "(306, 'Luna', '2023-01-15', 'Dog', 'Husky', 'Gray', 202, 2)\n"
     ]
    }
   ],
   "source": [
    "query = \"SELECT * FROM Pet;\"\n",
    "cursor.execute(query)\n",
    "print(\"Updated Pet Table Contents:\")\n",
    "for row in cursor.fetchall():\n",
    "    print(row)\n"
   ]
  },
  {
   "cell_type": "code",
   "execution_count": 28,
   "metadata": {},
   "outputs": [
    {
     "name": "stdout",
     "output_type": "stream",
     "text": [
      "Updated Clinic Table Contents:\n",
      "(1, 'Downtown Clinic', '123 Main St', '5551234567', 101)\n",
      "(2, 'Miami Clinic', '456 Elm St', '5552345678', 102)\n",
      "(3, 'North Clinic', '789 Pine St', '5553456789', 104)\n",
      "(4, 'Sout Clinic', '321 Oak St', '5554567890', 103)\n",
      "(5, 'East Clinic', '654 Cedar St', '5555678901', None)\n"
     ]
    }
   ],
   "source": [
    "query = \"SELECT * FROM Clinic;\"\n",
    "cursor.execute(query)\n",
    "print(\"Updated Clinic Table Contents:\")\n",
    "for row in cursor.fetchall():\n",
    "    print(row)\n"
   ]
  }
 ],
 "metadata": {
  "kernelspec": {
   "display_name": "Python 3",
   "language": "python",
   "name": "python3"
  },
  "language_info": {
   "codemirror_mode": {
    "name": "ipython",
    "version": 3
   },
   "file_extension": ".py",
   "mimetype": "text/x-python",
   "name": "python",
   "nbconvert_exporter": "python",
   "pygments_lexer": "ipython3",
   "version": "3.9.6"
  }
 },
 "nbformat": 4,
 "nbformat_minor": 2
}
